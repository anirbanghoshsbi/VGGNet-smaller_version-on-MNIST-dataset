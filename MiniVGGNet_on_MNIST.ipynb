{
  "nbformat": 4,
  "nbformat_minor": 0,
  "metadata": {
    "colab": {
      "name": "MiniVGGNet_on_MNIST.ipynb",
      "version": "0.3.2",
      "views": {},
      "default_view": {},
      "provenance": []
    },
    "kernelspec": {
      "name": "python3",
      "display_name": "Python 3"
    }
  },
  "cells": [
    {
      "metadata": {
        "id": "_tMQDN3Dum5k",
        "colab_type": "code",
        "colab": {
          "autoexec": {
            "startup": false,
            "wait_interval": 0
          }
        }
      },
      "cell_type": "code",
      "source": [
        "# VGGNet on MNIST dataset...\n",
        "import numpy\n",
        "from keras.datasets import mnist\n",
        "from keras.models import Sequential\n",
        "from keras.layers import Dense\n",
        "from keras.layers import Dropout\n",
        "from keras.layers import Flatten\n",
        "from keras.layers.convolutional import Conv2D\n",
        "from keras.layers.convolutional import MaxPooling2D\n",
        "from keras.layers.core import Activation\n",
        "from keras.utils import np_utils\n",
        "from keras.layers.normalization import BatchNormalization\n",
        "# fix dimension ordering issue\n",
        "from keras import backend as K\n"
      ],
      "execution_count": 0,
      "outputs": []
    },
    {
      "metadata": {
        "id": "3xZqR4REvC7Z",
        "colab_type": "code",
        "colab": {
          "autoexec": {
            "startup": false,
            "wait_interval": 0
          }
        }
      },
      "cell_type": "code",
      "source": [
        "\n",
        "# fix random seed for reproducibility\n",
        "seed = 7\n",
        "numpy.random.seed(seed)\n",
        "# load data\n",
        "(X_train, y_train), (X_test, y_test) = mnist.load_data()\n",
        "# reshape to be [samples][width][height][channels] -- I am using tensorflow.\n",
        "X_train = X_train.reshape(X_train.shape[0], 28,28,1).astype('float32')\n",
        "X_test = X_test.reshape(X_test.shape[0], 28,28,1).astype('float32')\n",
        "# normalize inputs from 0-255 to 0-1\n",
        "X_train = X_train / 255.0\n",
        "X_test = X_test / 255.0\n",
        "# one hot encode outputs\n",
        "y_train = np_utils.to_categorical(y_train)\n",
        "y_test = np_utils.to_categorical(y_test)\n",
        "num_classes = y_test.shape[1]\n",
        "inputShape = (28,28,1)\n",
        "\n",
        "\n",
        "# define a LeNet CNN model in keras\n",
        "def miniVGG_model():\n",
        "    # create model\n",
        "    model = Sequential()\n",
        "    # first set of CONV => RELU => CONV => RELU=> POOL layers\n",
        "    model.add(Conv2D(32, (3,3), padding=\"same\",input_shape=inputShape))\n",
        "    model.add(Activation(\"relu\"))\n",
        "    model.add(BatchNormalization(axis=-1))\n",
        "    model.add(MaxPooling2D(pool_size=(2, 2)))\n",
        "    model.add(Dropout(0.25))\n",
        "  \n",
        "    # second set of CONV => RELU => POOL layers\n",
        "    model.add(Conv2D(64, (3,3), padding=\"same\"))\n",
        "    model.add(Activation(\"relu\"))\n",
        "    model.add(BatchNormalization(axis=-1))\n",
        "    model.add(Conv2D(64, (3,3), padding=\"same\"))\n",
        "    model.add(Activation(\"relu\"))\n",
        "    model.add(BatchNormalization(axis=-1))\n",
        "    model.add(MaxPooling2D(pool_size=(2, 2)))\n",
        "    model.add(Dropout(0.25))\n",
        "   \n",
        "    # first (and only) set of FC => RELU layers\n",
        "    model.add(Flatten())\n",
        "    model.add(Dense(512))\n",
        "    model.add(Activation(\"relu\"))\n",
        "    model.add(BatchNormalization())\n",
        "    model.add(Dropout(0.50))\n",
        "    # softmax classifier\n",
        "    model.add(Dense(num_classes))\n",
        "    model.add(Activation(\"softmax\"))\n",
        "    model.compile(loss='categorical_crossentropy', optimizer='adam', metrics=['accuracy'])\n",
        "    return model\n"
      ],
      "execution_count": 0,
      "outputs": []
    },
    {
      "metadata": {
        "id": "teIUlGZevKUY",
        "colab_type": "code",
        "colab": {
          "autoexec": {
            "startup": false,
            "wait_interval": 0
          },
          "base_uri": "https://localhost:8080/",
          "height": 173
        },
        "outputId": "4aac483a-27f3-49e0-b114-6bdcb170b24d",
        "executionInfo": {
          "status": "ok",
          "timestamp": 1532159572237,
          "user_tz": -330,
          "elapsed": 1183097,
          "user": {
            "displayName": "Anirban Ghosh",
            "photoUrl": "https://lh3.googleusercontent.com/a/default-user=s128",
            "userId": "114654144150629633726"
          }
        }
      },
      "cell_type": "code",
      "source": [
        "# build the model\n",
        "model = miniVGG_model()\n",
        "# Fit the model\n",
        "model.fit(X_train, y_train, validation_data=(X_test, y_test), epochs=3, batch_size=200)\n",
        "# Final evaluation of the model\n",
        "scores = model.evaluate(X_test, y_test, verbose=0)\n",
        "print(\"CNN Error: %.2f%%\" % (100-scores[1]*100))"
      ],
      "execution_count": 10,
      "outputs": [
        {
          "output_type": "stream",
          "text": [
            "Train on 60000 samples, validate on 10000 samples\n",
            "Epoch 1/3\n",
            "60000/60000 [==============================] - 387s 6ms/step - loss: 0.1770 - acc: 0.9478 - val_loss: 0.0462 - val_acc: 0.9847\n",
            "Epoch 2/3\n",
            "39800/60000 [==================>...........] - ETA: 2:02 - loss: 0.0668 - acc: 0.9792"
          ],
          "name": "stdout"
        },
        {
          "output_type": "stream",
          "text": [
            "60000/60000 [==============================] - 386s 6ms/step - loss: 0.0636 - acc: 0.9806 - val_loss: 0.0349 - val_acc: 0.9879\n",
            "Epoch 3/3\n",
            "60000/60000 [==============================] - 386s 6ms/step - loss: 0.0459 - acc: 0.9857 - val_loss: 0.0401 - val_acc: 0.9870\n",
            "CNN Error: 1.30%\n"
          ],
          "name": "stdout"
        }
      ]
    }
  ]
}